{
 "nbformat": 4,
 "nbformat_minor": 2,
 "metadata": {
  "language_info": {
   "name": "python",
   "codemirror_mode": {
    "name": "ipython",
    "version": 3
   },
   "version": "3.7.3"
  },
  "orig_nbformat": 2,
  "file_extension": ".py",
  "mimetype": "text/x-python",
  "name": "python",
  "npconvert_exporter": "python",
  "pygments_lexer": "ipython3",
  "version": 3
 },
 "cells": [
  {
   "cell_type": "markdown",
   "execution_count": null,
   "metadata": {},
   "outputs": [],
   "source": [
    "# Intro a Pandas"
   ]
  },
  {
   "cell_type": "code",
   "execution_count": 1,
   "metadata": {},
   "outputs": [],
   "source": [
    "import pandas as pd\n",
    "from pandas import Series, DataFrame"
   ]
  },
  {
   "cell_type": "markdown",
   "execution_count": null,
   "metadata": {},
   "outputs": [],
   "source": [
    "## Estructuras de Datos: Series"
   ]
  },
  {
   "cell_type": "code",
   "execution_count": 9,
   "metadata": {},
   "outputs": [
    {
     "name": "stdout",
     "output_type": "stream",
     "text": "0     3\n1     9\n2    27\ndtype: int64\n"
    }
   ],
   "source": [
    "obj = pd.Series([3,9,27])\n",
    "print(obj)"
   ]
  },
  {
   "cell_type": "code",
   "execution_count": 8,
   "metadata": {},
   "outputs": [
    {
     "data": {
      "text/plain": "pandas.core.series.Series"
     },
     "execution_count": 8,
     "metadata": {},
     "output_type": "execute_result"
    }
   ],
   "source": [
    "type(obj)"
   ]
  },
  {
   "cell_type": "code",
   "execution_count": 10,
   "metadata": {},
   "outputs": [
    {
     "name": "stdout",
     "output_type": "stream",
     "text": "a    4\nb    3\nc    4\nd    3\ndtype: int64\n"
    }
   ],
   "source": [
    "obj2 = pd.Series([4,3,4,3], index=['a','b','c','d'])\n",
    "print(obj2)"
   ]
  },
  {
   "cell_type": "code",
   "execution_count": 11,
   "metadata": {},
   "outputs": [
    {
     "data": {
      "text/plain": "Index(['a', 'b', 'c', 'd'], dtype='object')"
     },
     "execution_count": 11,
     "metadata": {},
     "output_type": "execute_result"
    }
   ],
   "source": [
    "obj2.index"
   ]
  },
  {
   "cell_type": "code",
   "execution_count": 12,
   "metadata": {},
   "outputs": [
    {
     "data": {
      "text/plain": "4"
     },
     "execution_count": 12,
     "metadata": {},
     "output_type": "execute_result"
    }
   ],
   "source": [
    "obj2['a']"
   ]
  },
  {
   "cell_type": "code",
   "execution_count": 13,
   "metadata": {},
   "outputs": [
    {
     "data": {
      "text/plain": "a    4\nc    4\ndtype: int64"
     },
     "execution_count": 13,
     "metadata": {},
     "output_type": "execute_result"
    }
   ],
   "source": [
    "obj2[obj2>3]"
   ]
  },
  {
   "cell_type": "code",
   "execution_count": 14,
   "metadata": {},
   "outputs": [
    {
     "data": {
      "text/plain": "a    8\nb    6\nc    8\nd    6\ndtype: int64"
     },
     "execution_count": 14,
     "metadata": {},
     "output_type": "execute_result"
    }
   ],
   "source": [
    "obj2*2"
   ]
  },
  {
   "cell_type": "code",
   "execution_count": 22,
   "metadata": {},
   "outputs": [
    {
     "data": {
      "text/plain": "dict"
     },
     "execution_count": 22,
     "metadata": {},
     "output_type": "execute_result"
    }
   ],
   "source": [
    "#funciona a partir de un diccionario\n",
    "sdata = {'San José':10000, 'Limón':20000, 'Alajuela':30000, 'Puntarenas':24000,'Heredia':50000, 'Cartago':23000}\n",
    "type(data)"
   ]
  },
  {
   "cell_type": "code",
   "execution_count": 23,
   "metadata": {},
   "outputs": [],
   "source": [
    "obj3 = pd.Series(sdata)"
   ]
  },
  {
   "cell_type": "code",
   "execution_count": 26,
   "metadata": {},
   "outputs": [],
   "source": [
    "provincias = ['San José', 'Limón', 'Heredia', 'Alajuela', 'Cartago', 'Guanacaste']"
   ]
  },
  {
   "cell_type": "code",
   "execution_count": 28,
   "metadata": {},
   "outputs": [
    {
     "name": "stdout",
     "output_type": "stream",
     "text": "San José      10000.0\nLimón         20000.0\nHeredia       50000.0\nAlajuela      30000.0\nCartago       23000.0\nGuanacaste        NaN\ndtype: float64\n"
    }
   ],
   "source": [
    "obj4  = pd.Series(sdata, index = provincias)\n",
    "print(obj3)"
   ]
  },
  {
   "cell_type": "code",
   "execution_count": 29,
   "metadata": {},
   "outputs": [
    {
     "data": {
      "text/plain": "San José      False\nLimón         False\nHeredia       False\nAlajuela      False\nCartago       False\nGuanacaste     True\ndtype: bool"
     },
     "execution_count": 29,
     "metadata": {},
     "output_type": "execute_result"
    }
   ],
   "source": [
    "obj4.isnull()"
   ]
  },
  {
   "cell_type": "code",
   "execution_count": 45,
   "metadata": {},
   "outputs": [],
   "source": [
    "data = {'provincia': ['San José', 'Limón', 'Heredia', 'Alajuela', 'Cartago', 'Guanacaste', 'Puntarenas'],\n",
    "'año': [2000, 2001, 2002, 2001, 2002, 2003],\n",
    "'pob': [1.5, 1.7, 3.6, 2.4, 2.9, 3.2]}\n",
    "frame = pd.DataFrame(data) #error, todos los arreglos tienen que tener la misma cantidad de elementos  "
   ]
  },
  {
   "cell_type": "code",
   "execution_count": 46,
   "metadata": {},
   "outputs": [
    {
     "data": {
      "text/html": "<div>\n<style scoped>\n    .dataframe tbody tr th:only-of-type {\n        vertical-align: middle;\n    }\n\n    .dataframe tbody tr th {\n        vertical-align: top;\n    }\n\n    .dataframe thead th {\n        text-align: right;\n    }\n</style>\n<table border=\"1\" class=\"dataframe\">\n  <thead>\n    <tr style=\"text-align: right;\">\n      <th></th>\n      <th>provincia</th>\n      <th>año</th>\n      <th>pob</th>\n    </tr>\n  </thead>\n  <tbody>\n    <tr>\n      <th>0</th>\n      <td>San José</td>\n      <td>2000</td>\n      <td>1.5</td>\n    </tr>\n    <tr>\n      <th>1</th>\n      <td>Limón</td>\n      <td>2001</td>\n      <td>1.7</td>\n    </tr>\n    <tr>\n      <th>2</th>\n      <td>Heredia</td>\n      <td>2002</td>\n      <td>3.6</td>\n    </tr>\n    <tr>\n      <th>3</th>\n      <td>Alajuela</td>\n      <td>2001</td>\n      <td>2.4</td>\n    </tr>\n    <tr>\n      <th>4</th>\n      <td>Cartago</td>\n      <td>2002</td>\n      <td>2.9</td>\n    </tr>\n    <tr>\n      <th>5</th>\n      <td>Guanacaste</td>\n      <td>2003</td>\n      <td>3.2</td>\n    </tr>\n    <tr>\n      <th>6</th>\n      <td>Puntarenas</td>\n      <td>2003</td>\n      <td>3.2</td>\n    </tr>\n  </tbody>\n</table>\n</div>",
      "text/plain": "    provincia   año  pob\n0    San José  2000  1.5\n1       Limón  2001  1.7\n2     Heredia  2002  3.6\n3    Alajuela  2001  2.4\n4     Cartago  2002  2.9\n5  Guanacaste  2003  3.2\n6  Puntarenas  2003  3.2"
     },
     "execution_count": 46,
     "metadata": {},
     "output_type": "execute_result"
    }
   ],
   "source": [
    "frame"
   ]
  },
  {
   "cell_type": "code",
   "execution_count": 49,
   "metadata": {},
   "outputs": [
    {
     "data": {
      "text/html": "<div>\n<style scoped>\n    .dataframe tbody tr th:only-of-type {\n        vertical-align: middle;\n    }\n\n    .dataframe tbody tr th {\n        vertical-align: top;\n    }\n\n    .dataframe thead th {\n        text-align: right;\n    }\n</style>\n<table border=\"1\" class=\"dataframe\">\n  <thead>\n    <tr style=\"text-align: right;\">\n      <th></th>\n      <th>año</th>\n      <th>pob</th>\n      <th>provincia</th>\n    </tr>\n  </thead>\n  <tbody>\n    <tr>\n      <th>0</th>\n      <td>2000</td>\n      <td>1.5</td>\n      <td>San José</td>\n    </tr>\n    <tr>\n      <th>1</th>\n      <td>2001</td>\n      <td>1.7</td>\n      <td>Limón</td>\n    </tr>\n    <tr>\n      <th>2</th>\n      <td>2002</td>\n      <td>3.6</td>\n      <td>Heredia</td>\n    </tr>\n    <tr>\n      <th>3</th>\n      <td>2001</td>\n      <td>2.4</td>\n      <td>Alajuela</td>\n    </tr>\n    <tr>\n      <th>4</th>\n      <td>2002</td>\n      <td>2.9</td>\n      <td>Cartago</td>\n    </tr>\n    <tr>\n      <th>5</th>\n      <td>2003</td>\n      <td>3.2</td>\n      <td>Guanacaste</td>\n    </tr>\n    <tr>\n      <th>6</th>\n      <td>2003</td>\n      <td>3.2</td>\n      <td>Puntarenas</td>\n    </tr>\n  </tbody>\n</table>\n</div>",
      "text/plain": "    año  pob   provincia\n0  2000  1.5    San José\n1  2001  1.7       Limón\n2  2002  3.6     Heredia\n3  2001  2.4    Alajuela\n4  2002  2.9     Cartago\n5  2003  3.2  Guanacaste\n6  2003  3.2  Puntarenas"
     },
     "execution_count": 49,
     "metadata": {},
     "output_type": "execute_result"
    }
   ],
   "source": [
    "frame2 = pd.DataFrame(data, columns=['año', 'pob', 'provincia'])\n",
    "frame2"
   ]
  },
  {
   "cell_type": "code",
   "execution_count": 52,
   "metadata": {},
   "outputs": [
    {
     "data": {
      "text/plain": "0    2000\n1    2001\n2    2002\n3    2001\n4    2002\n5    2003\n6    2003\nName: año, dtype: int64"
     },
     "execution_count": 52,
     "metadata": {},
     "output_type": "execute_result"
    }
   ],
   "source": [
    "frame2['año']"
   ]
  },
  {
   "cell_type": "code",
   "execution_count": 54,
   "metadata": {},
   "outputs": [
    {
     "data": {
      "text/plain": "0    2000\n1    2001\n2    2002\n3    2001\n4    2002\n5    2003\n6    2003\nName: año, dtype: int64"
     },
     "execution_count": 54,
     "metadata": {},
     "output_type": "execute_result"
    }
   ],
   "source": [
    "frame2"
   ]
  },
  {
   "cell_type": "code",
   "execution_count": 55,
   "metadata": {},
   "outputs": [
    {
     "data": {
      "text/plain": "año              2001\npob               2.4\nprovincia    Alajuela\nName: 3, dtype: object"
     },
     "execution_count": 55,
     "metadata": {},
     "output_type": "execute_result"
    }
   ],
   "source": [
    "frame2.loc[3]"
   ]
  },
  {
   "cell_type": "code",
   "execution_count": 57,
   "metadata": {},
   "outputs": [
    {
     "data": {
      "text/html": "<div>\n<style scoped>\n    .dataframe tbody tr th:only-of-type {\n        vertical-align: middle;\n    }\n\n    .dataframe tbody tr th {\n        vertical-align: top;\n    }\n\n    .dataframe thead th {\n        text-align: right;\n    }\n</style>\n<table border=\"1\" class=\"dataframe\">\n  <thead>\n    <tr style=\"text-align: right;\">\n      <th></th>\n      <th>año</th>\n      <th>pob</th>\n      <th>provincia</th>\n      <th>País</th>\n    </tr>\n  </thead>\n  <tbody>\n    <tr>\n      <th>0</th>\n      <td>2000</td>\n      <td>1.5</td>\n      <td>San José</td>\n      <td>Costa Rica</td>\n    </tr>\n    <tr>\n      <th>1</th>\n      <td>2001</td>\n      <td>1.7</td>\n      <td>Limón</td>\n      <td>Costa Rica</td>\n    </tr>\n    <tr>\n      <th>2</th>\n      <td>2002</td>\n      <td>3.6</td>\n      <td>Heredia</td>\n      <td>Costa Rica</td>\n    </tr>\n    <tr>\n      <th>3</th>\n      <td>2001</td>\n      <td>2.4</td>\n      <td>Alajuela</td>\n      <td>Costa Rica</td>\n    </tr>\n    <tr>\n      <th>4</th>\n      <td>2002</td>\n      <td>2.9</td>\n      <td>Cartago</td>\n      <td>Costa Rica</td>\n    </tr>\n  </tbody>\n</table>\n</div>",
      "text/plain": "    año  pob provincia        País\n0  2000  1.5  San José  Costa Rica\n1  2001  1.7     Limón  Costa Rica\n2  2002  3.6   Heredia  Costa Rica\n3  2001  2.4  Alajuela  Costa Rica\n4  2002  2.9   Cartago  Costa Rica"
     },
     "execution_count": 57,
     "metadata": {},
     "output_type": "execute_result"
    }
   ],
   "source": [
    "frame2['País'] = 'Costa Rica'\n",
    "frame2.head()"
   ]
  },
  {
   "cell_type": "code",
   "execution_count": 59,
   "metadata": {},
   "outputs": [
    {
     "data": {
      "text/html": "<div>\n<style scoped>\n    .dataframe tbody tr th:only-of-type {\n        vertical-align: middle;\n    }\n\n    .dataframe tbody tr th {\n        vertical-align: top;\n    }\n\n    .dataframe thead th {\n        text-align: right;\n    }\n</style>\n<table border=\"1\" class=\"dataframe\">\n  <thead>\n    <tr style=\"text-align: right;\">\n      <th></th>\n      <th>año</th>\n      <th>pob</th>\n      <th>provincia</th>\n      <th>País</th>\n      <th>capital</th>\n    </tr>\n  </thead>\n  <tbody>\n    <tr>\n      <th>0</th>\n      <td>2000</td>\n      <td>1.5</td>\n      <td>San José</td>\n      <td>Costa Rica</td>\n      <td>True</td>\n    </tr>\n    <tr>\n      <th>1</th>\n      <td>2001</td>\n      <td>1.7</td>\n      <td>Limón</td>\n      <td>Costa Rica</td>\n      <td>False</td>\n    </tr>\n    <tr>\n      <th>2</th>\n      <td>2002</td>\n      <td>3.6</td>\n      <td>Heredia</td>\n      <td>Costa Rica</td>\n      <td>False</td>\n    </tr>\n    <tr>\n      <th>3</th>\n      <td>2001</td>\n      <td>2.4</td>\n      <td>Alajuela</td>\n      <td>Costa Rica</td>\n      <td>False</td>\n    </tr>\n    <tr>\n      <th>4</th>\n      <td>2002</td>\n      <td>2.9</td>\n      <td>Cartago</td>\n      <td>Costa Rica</td>\n      <td>False</td>\n    </tr>\n    <tr>\n      <th>5</th>\n      <td>2003</td>\n      <td>3.2</td>\n      <td>Guanacaste</td>\n      <td>Costa Rica</td>\n      <td>False</td>\n    </tr>\n    <tr>\n      <th>6</th>\n      <td>2003</td>\n      <td>3.2</td>\n      <td>Puntarenas</td>\n      <td>Costa Rica</td>\n      <td>False</td>\n    </tr>\n  </tbody>\n</table>\n</div>",
      "text/plain": "    año  pob   provincia        País  capital\n0  2000  1.5    San José  Costa Rica     True\n1  2001  1.7       Limón  Costa Rica    False\n2  2002  3.6     Heredia  Costa Rica    False\n3  2001  2.4    Alajuela  Costa Rica    False\n4  2002  2.9     Cartago  Costa Rica    False\n5  2003  3.2  Guanacaste  Costa Rica    False\n6  2003  3.2  Puntarenas  Costa Rica    False"
     },
     "execution_count": 59,
     "metadata": {},
     "output_type": "execute_result"
    }
   ],
   "source": [
    "frame2['capital'] = frame.provincia=='San José' \n",
    "frame2"
   ]
  },
  {
   "cell_type": "code",
   "execution_count": 60,
   "metadata": {},
   "outputs": [
    {
     "data": {
      "text/html": "<div>\n<style scoped>\n    .dataframe tbody tr th:only-of-type {\n        vertical-align: middle;\n    }\n\n    .dataframe tbody tr th {\n        vertical-align: top;\n    }\n\n    .dataframe thead th {\n        text-align: right;\n    }\n</style>\n<table border=\"1\" class=\"dataframe\">\n  <thead>\n    <tr style=\"text-align: right;\">\n      <th></th>\n      <th>año</th>\n      <th>pob</th>\n      <th>provincia</th>\n      <th>País</th>\n    </tr>\n  </thead>\n  <tbody>\n    <tr>\n      <th>0</th>\n      <td>2000</td>\n      <td>1.5</td>\n      <td>San José</td>\n      <td>Costa Rica</td>\n    </tr>\n    <tr>\n      <th>1</th>\n      <td>2001</td>\n      <td>1.7</td>\n      <td>Limón</td>\n      <td>Costa Rica</td>\n    </tr>\n    <tr>\n      <th>2</th>\n      <td>2002</td>\n      <td>3.6</td>\n      <td>Heredia</td>\n      <td>Costa Rica</td>\n    </tr>\n    <tr>\n      <th>3</th>\n      <td>2001</td>\n      <td>2.4</td>\n      <td>Alajuela</td>\n      <td>Costa Rica</td>\n    </tr>\n    <tr>\n      <th>4</th>\n      <td>2002</td>\n      <td>2.9</td>\n      <td>Cartago</td>\n      <td>Costa Rica</td>\n    </tr>\n    <tr>\n      <th>5</th>\n      <td>2003</td>\n      <td>3.2</td>\n      <td>Guanacaste</td>\n      <td>Costa Rica</td>\n    </tr>\n    <tr>\n      <th>6</th>\n      <td>2003</td>\n      <td>3.2</td>\n      <td>Puntarenas</td>\n      <td>Costa Rica</td>\n    </tr>\n  </tbody>\n</table>\n</div>",
      "text/plain": "    año  pob   provincia        País\n0  2000  1.5    San José  Costa Rica\n1  2001  1.7       Limón  Costa Rica\n2  2002  3.6     Heredia  Costa Rica\n3  2001  2.4    Alajuela  Costa Rica\n4  2002  2.9     Cartago  Costa Rica\n5  2003  3.2  Guanacaste  Costa Rica\n6  2003  3.2  Puntarenas  Costa Rica"
     },
     "execution_count": 60,
     "metadata": {},
     "output_type": "execute_result"
    }
   ],
   "source": [
    "del frame2['capital']\n",
    "frame2"
   ]
  },
  {
   "cell_type": "code",
   "execution_count": 61,
   "metadata": {},
   "outputs": [],
   "source": [
    "pop = {'San José': {2001: 2.4, 2002: 2.9}, 'Cartago': {2000: 1.5, 2001: 1.7, 2002: 3.6}} #diccionarios anidados"
   ]
  },
  {
   "cell_type": "code",
   "execution_count": 62,
   "metadata": {},
   "outputs": [],
   "source": [
    "frame3 = pd.DataFrame(pop)"
   ]
  },
  {
   "cell_type": "code",
   "execution_count": 63,
   "metadata": {},
   "outputs": [
    {
     "data": {
      "text/html": "<div>\n<style scoped>\n    .dataframe tbody tr th:only-of-type {\n        vertical-align: middle;\n    }\n\n    .dataframe tbody tr th {\n        vertical-align: top;\n    }\n\n    .dataframe thead th {\n        text-align: right;\n    }\n</style>\n<table border=\"1\" class=\"dataframe\">\n  <thead>\n    <tr style=\"text-align: right;\">\n      <th></th>\n      <th>San José</th>\n      <th>Cartago</th>\n    </tr>\n  </thead>\n  <tbody>\n    <tr>\n      <th>2000</th>\n      <td>NaN</td>\n      <td>1.5</td>\n    </tr>\n    <tr>\n      <th>2001</th>\n      <td>2.4</td>\n      <td>1.7</td>\n    </tr>\n    <tr>\n      <th>2002</th>\n      <td>2.9</td>\n      <td>3.6</td>\n    </tr>\n  </tbody>\n</table>\n</div>",
      "text/plain": "      San José  Cartago\n2000       NaN      1.5\n2001       2.4      1.7\n2002       2.9      3.6"
     },
     "execution_count": 63,
     "metadata": {},
     "output_type": "execute_result"
    }
   ],
   "source": [
    "frame3"
   ]
  },
  {
   "cell_type": "code",
   "execution_count": 64,
   "metadata": {},
   "outputs": [
    {
     "data": {
      "text/html": "<div>\n<style scoped>\n    .dataframe tbody tr th:only-of-type {\n        vertical-align: middle;\n    }\n\n    .dataframe tbody tr th {\n        vertical-align: top;\n    }\n\n    .dataframe thead th {\n        text-align: right;\n    }\n</style>\n<table border=\"1\" class=\"dataframe\">\n  <thead>\n    <tr style=\"text-align: right;\">\n      <th></th>\n      <th>2000</th>\n      <th>2001</th>\n      <th>2002</th>\n    </tr>\n  </thead>\n  <tbody>\n    <tr>\n      <th>San José</th>\n      <td>NaN</td>\n      <td>2.4</td>\n      <td>2.9</td>\n    </tr>\n    <tr>\n      <th>Cartago</th>\n      <td>1.5</td>\n      <td>1.7</td>\n      <td>3.6</td>\n    </tr>\n  </tbody>\n</table>\n</div>",
      "text/plain": "          2000  2001  2002\nSan José   NaN   2.4   2.9\nCartago    1.5   1.7   3.6"
     },
     "execution_count": 64,
     "metadata": {},
     "output_type": "execute_result"
    }
   ],
   "source": [
    "frame3.T"
   ]
  },
  {
   "cell_type": "code",
   "execution_count": null,
   "metadata": {},
   "outputs": [],
   "source": []
  }
 ]
}